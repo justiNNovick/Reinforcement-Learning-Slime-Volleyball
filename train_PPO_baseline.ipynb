{
 "cells": [
  {
   "cell_type": "markdown",
   "metadata": {},
   "source": [
    "# Imports"
   ]
  },
  {
   "cell_type": "code",
   "execution_count": 8,
   "metadata": {},
   "outputs": [],
   "source": [
    "import slimevolleygym\n",
    "from Models.PPO.PPO_Agent import PPO_Agent\n",
    "import torch\n",
    "from tqdm.auto import tqdm\n",
    "from torch.utils.tensorboard import SummaryWriter\n",
    "from datetime import datetime\n",
    "from slimevolleygym import BaselinePolicy\n",
    "import numpy as np\n",
    "from utils import convert_to_vector, convert_to_value\n",
    "import types\n",
    "from IPython.display import clear_output"
   ]
  },
  {
   "cell_type": "markdown",
   "metadata": {},
   "source": [
    "# Setup environment"
   ]
  },
  {
   "cell_type": "code",
   "execution_count": 9,
   "metadata": {},
   "outputs": [
    {
     "name": "stdout",
     "output_type": "stream",
     "text": [
      "Action space: 3\n",
      "Observation space: (12,)\n"
     ]
    }
   ],
   "source": [
    "env = slimevolleygym.SlimeVolleyEnv()\n",
    "print(f\"Action space: {env.action_space.n}\")\n",
    "print(f\"Observation space: {env.observation_space.shape}\")\n",
    "env.close()"
   ]
  },
  {
   "cell_type": "markdown",
   "metadata": {},
   "source": [
    "# Device"
   ]
  },
  {
   "cell_type": "code",
   "execution_count": 10,
   "metadata": {},
   "outputs": [
    {
     "name": "stdout",
     "output_type": "stream",
     "text": [
      "Device used:  cuda:0\n"
     ]
    }
   ],
   "source": [
    "DEVICE = torch.device('cuda:0' if torch.cuda.is_available() else 'mps' if torch.backends.mps.is_available() else 'cpu')\n",
    "\n",
    "# Print the device as a check\n",
    "print(\"Device used: \", DEVICE)"
   ]
  },
  {
   "cell_type": "markdown",
   "metadata": {},
   "source": [
    "# Hyperparameters setup"
   ]
  },
  {
   "cell_type": "code",
   "execution_count": 11,
   "metadata": {},
   "outputs": [],
   "source": [
    "# Hyperparameters\n",
    "timesteps_per_batch = 4096    # Number of timesteps to run per batch\n",
    "n_updates_per_iteration = 10  # Number of times to update actor/critic per iteration\n",
    "lr_choices = [3e-4]           # Learning rate of both actor and critic optimizers\n",
    "eps = 1e-5                    # Adam optimizer epsilon\n",
    "gamma = 0.99                  # Discount factor to be applied when calculating Rewards-To-Go\n",
    "clip = 0.2                    # Recommended 0.2, helps define the threshold to clip the ratio during SGA\n",
    "lam = 0.95                    # Lambda Parameter for GAE \n",
    "num_minibatches = 6           # Number of mini-batches for Mini-batch Update\n",
    "ent_coef = 0.1                # Entropy coefficient for Entropy Regularization\n",
    "target_kl = 0.03              # KL Divergence threshold\n",
    "max_grad_norm = 0.5           # Gradient Clipping threshold\n",
    "mlp_layers = [64, 64]         # Number of neurons in each layer of the MLP\n",
    "render = False                # Whether to render the environment\n",
    "\n",
    "# Custom parameters\n",
    "seed = 42\n",
    "max_num_steps = 20000000\n",
    "num_test_runs_vs_baseline = 50\n",
    "num_test_runs_vs_random = 10\n",
    "num_iterations_before_test_runs = 150\n",
    "num_iterations_before_save = 100"
   ]
  },
  {
   "cell_type": "code",
   "execution_count": 12,
   "metadata": {},
   "outputs": [],
   "source": [
    "# If agent2 = \"random\", then the agent is playing against a random policy\n",
    "def evaluate(env, agent1, num_eval_episodes, agent2=\"random\"):\n",
    "\n",
    "    # Set the model in evaluation mode\n",
    "    agent1.evaluation_mode()\n",
    "    \n",
    "    # Run num_eval_episodes episodes and calculate the total return\n",
    "    total_return = 0\n",
    "    for _ in range(num_eval_episodes):\n",
    "\n",
    "        state1 = env.reset()\n",
    "        state2 = state1\n",
    "        done = False\n",
    "        while not done:\n",
    "            \n",
    "            with torch.no_grad():\n",
    "\n",
    "                # Select the actions for each agent\n",
    "                action1, _ = agent1.select_action(state1, greedy=True)\n",
    "\n",
    "                if agent2 == \"random\":\n",
    "                    action2 = convert_to_value(env.action_space.sample())\n",
    "                else:\n",
    "                    action2, _ = agent2.select_action(state2)\n",
    "            \n",
    "            # Step the environment forward\n",
    "            next_state1, reward, done, info = env.step(convert_to_vector(action1), otherAction=convert_to_vector(action2))\n",
    "            next_state2 = info['otherObs']\n",
    "            \n",
    "            # Add the individual agents' rewards to the total returns (Since they're the same for both agents)\n",
    "            total_return += reward\n",
    "\n",
    "            # Update the states\n",
    "            state1 = next_state1\n",
    "            state2 = next_state2\n",
    "    \n",
    "    # Set the model back in training mode\n",
    "    agent1.training_mode()\n",
    "\n",
    "    # Return the average return\n",
    "    return total_return / num_eval_episodes"
   ]
  },
  {
   "cell_type": "code",
   "execution_count": 13,
   "metadata": {},
   "outputs": [],
   "source": [
    "# To retrieve a checkpoint, just pass the number of steps at which the checkpoint occurs in the logging dir\n",
    "def train(timesteps_per_batch, n_updates_per_iteration, lr, eps, gamma, clip, lam, \\\n",
    "          num_minibatches, ent_coef, target_kl, max_grad_norm, seed, max_num_steps, \\\n",
    "            num_test_runs_vs_baseline, num_iterations_before_test_runs, num_iterations_before_save,\\\n",
    "                num_test_runs_vs_random, writer, logging_dir, mlp_layers, render, HP_string, \\\n",
    "                    n_steps_checkpoint=None):\n",
    "\n",
    "    # Create the environment\n",
    "    env = slimevolleygym.SlimeVolleyEnv()\n",
    "    torch.manual_seed(seed)\n",
    "    env.seed(seed)\n",
    "\n",
    "    # Create the player agents (6 possible actions cause we don't consider pressing forward and backward at the same time)\n",
    "    agent1 = PPO_Agent(obs_dim=12, \n",
    "                        act_dim=6,\n",
    "                        DEVICE=DEVICE,\n",
    "                        timesteps_per_batch=timesteps_per_batch,\n",
    "                        n_updates_per_iteration=n_updates_per_iteration,\n",
    "                        lr=lr,\n",
    "                        eps=eps,\n",
    "                        gamma=gamma,\n",
    "                        clip=clip,\n",
    "                        lam=lam,\n",
    "                        num_minibatches=num_minibatches,\n",
    "                        ent_coef=ent_coef,\n",
    "                        target_kl=target_kl,\n",
    "                        max_grad_norm=max_grad_norm,\n",
    "                        mlp_layers=mlp_layers,\n",
    "                        render=render)\n",
    "    \n",
    "    # Create the baseline policy (Returns a value not a vector for the action to ensure uniformity)\n",
    "    agent2 = BaselinePolicy()\n",
    "    def select_action(self, state, greedy=False):\n",
    "        action = self.predict(state)\n",
    "        return convert_to_value(action), None\n",
    "\n",
    "    agent2.select_action = types.MethodType(select_action, agent2)\n",
    "\n",
    "    # Retrieve any checkpoints if necessary\n",
    "    if n_steps_checkpoint is not None:\n",
    "        agent1.load_models(logging_dir, 1, n_steps_checkpoint)\n",
    "        n_steps = n_steps_checkpoint-1\n",
    "    else:\n",
    "        n_steps = 0\n",
    "\n",
    "    i = 0 # Iteration number\n",
    "\n",
    "    # Train the agent\n",
    "    while n_steps < max_num_steps:\n",
    "\n",
    "        # Print the progress\n",
    "        clear_output(wait=True)\n",
    "        print(f\"{HP_string} Training step {n_steps}/{max_num_steps} ({n_steps/max_num_steps*100:.2f}%)\")\n",
    "\n",
    "        # Check if it's time to save the models\n",
    "        if i > 0 and (i+1) % num_iterations_before_save == 0:\n",
    "            agent1.save_models(logging_dir, 1, n_steps+1)\n",
    "        \n",
    "        if i % num_iterations_before_test_runs == 0:\n",
    "\n",
    "            # Evaluate the agent against the baseline policy\n",
    "            average_test_return_baseline = evaluate(env, agent1, num_test_runs_vs_baseline, agent2)\n",
    "            writer.add_scalar(\"Average baseline test return - Training step\", average_test_return_baseline, n_steps)\n",
    "\n",
    "            # Evaluate the agent against a random policy\n",
    "            average_test_return_random = evaluate(env, agent1, num_test_runs_vs_random, \"random\")\n",
    "            writer.add_scalar(\"Average random test return - Training step\", average_test_return_random, n_steps)\n",
    "            \n",
    "            # Flush both results\n",
    "            writer.flush()\n",
    "\n",
    "        # Gather a batch of experiences\n",
    "        batch_obs, batch_acts, batch_log_probs, batch_rews, batch_lens, batch_vals, batch_dones = agent1.gather_data(env, agent2)\n",
    "\n",
    "        # Increment the number of steps\n",
    "        n_steps += sum(batch_lens)\n",
    "\n",
    "        # Run a training iteration on that batch\n",
    "        agent1.learn(batch_acts=batch_acts,\n",
    "                     batch_obs=batch_obs,\n",
    "                     batch_log_probs=batch_log_probs,\n",
    "                     batch_rews=batch_rews,\n",
    "                     batch_vals=batch_vals,\n",
    "                     batch_dones=batch_dones,\n",
    "                     n_steps_so_far=n_steps,\n",
    "                     total_n_steps=max_num_steps,\n",
    "                     writer=writer)  \n",
    "\n",
    "        # Log metrics\n",
    "        writer.add_scalar(\"Average episode length - Training step\", np.mean(batch_lens), n_steps)\n",
    "        writer.add_scalar(\"Average self-play train return - Training step\", np.mean([np.sum(ep_rews) for ep_rews in batch_rews]), n_steps)\n",
    "        writer.flush()\n",
    "\n",
    "        # Increment the iteration number\n",
    "        i += 1\n",
    "    \n",
    "    # Save the final version of the models\n",
    "    agent1.save_models(logging_dir, 1, n_steps+1)"
   ]
  },
  {
   "cell_type": "code",
   "execution_count": 14,
   "metadata": {},
   "outputs": [
    {
     "name": "stdout",
     "output_type": "stream",
     "text": [
      "0) Alpha: 0.0003 ==> Training step 19997440/20000000 (99.99%)\n"
     ]
    }
   ],
   "source": [
    "i = 0 # Keep track of the hyperparameter combinations\n",
    "\n",
    "for lr in lr_choices:\n",
    "\n",
    "    # Create a string representing the HP combination\n",
    "    HP_string = f\"{i}) Alpha: {lr} ==>\"\n",
    "\n",
    "    # Create the writer\n",
    "    logging_dir = f\"./Logging/PPO-BASELINE/{datetime.now().strftime('%Y%m%d-%H%M%S')}-lr-{lr}-entcoef-{ent_coef}-mlp-{mlp_layers[0]}-kl-{target_kl}\"\n",
    "    writer = SummaryWriter(logging_dir)\n",
    "\n",
    "    # Train the agent\n",
    "    train(timesteps_per_batch=timesteps_per_batch, \n",
    "          n_updates_per_iteration=n_updates_per_iteration, \n",
    "          lr=lr, \n",
    "          eps=eps, \n",
    "          gamma=gamma, \n",
    "          clip=clip, \n",
    "          lam=lam, \n",
    "          num_minibatches=num_minibatches, \n",
    "          ent_coef=ent_coef, \n",
    "          target_kl=target_kl, \n",
    "          max_grad_norm=max_grad_norm, \n",
    "          seed=seed, \n",
    "          max_num_steps=max_num_steps, \n",
    "          num_test_runs_vs_baseline=num_test_runs_vs_baseline, \n",
    "          num_iterations_before_test_runs=num_iterations_before_test_runs, \n",
    "          num_iterations_before_save=num_iterations_before_save, \n",
    "          num_test_runs_vs_random=num_test_runs_vs_random, \n",
    "          writer=writer, \n",
    "          logging_dir=logging_dir, \n",
    "          mlp_layers=mlp_layers, \n",
    "          render=render, \n",
    "          HP_string=HP_string)\n",
    "    \n",
    "    # Close the writer\n",
    "    writer.close()"
   ]
  }
 ],
 "metadata": {
  "kernelspec": {
   "display_name": "venv",
   "language": "python",
   "name": "python3"
  },
  "language_info": {
   "codemirror_mode": {
    "name": "ipython",
    "version": 3
   },
   "file_extension": ".py",
   "mimetype": "text/x-python",
   "name": "python",
   "nbconvert_exporter": "python",
   "pygments_lexer": "ipython3",
   "version": "3.10.4"
  }
 },
 "nbformat": 4,
 "nbformat_minor": 2
}
